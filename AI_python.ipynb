{
 "cells": [
  {
   "cell_type": "code",
   "execution_count": 1,
   "metadata": {},
   "outputs": [],
   "source": [
    "from numpy import array, dot, random\n",
    "import numpy as np\n",
    "import matplotlib.pyplot as plt\n",
    "import math as mt"
   ]
  },
  {
   "cell_type": "code",
   "execution_count": 2,
   "metadata": {},
   "outputs": [],
   "source": [
    "sig = lambda x : 1.0/(1.0+mt.exp(-x*1.0))\n",
    "def relu(x):\n",
    "    if x > 0.0:\n",
    "        return x\n",
    "    elif x == 0.0:\n",
    "        return 0.5*x\n",
    "    else:\n",
    "        return 0.0\n",
    "\n",
    "dif_sig = lambda x : sig(x)*(1.0-sig(x))\n",
    "def dif_relu(x):\n",
    "    if x > 0.0:\n",
    "        return 1.0\n",
    "    elif x == 0.0:\n",
    "        return 0.5\n",
    "    else:\n",
    "        return 0.0\n",
    "\n",
    "func = sig\n",
    "dif_func = dif_sig\n",
    "\n",
    "random.seed(seed=20181115)"
   ]
  },
  {
   "cell_type": "code",
   "execution_count": 3,
   "metadata": {},
   "outputs": [
    {
     "data": {
      "text/plain": [
       "'data = [\\n    (array([1,0,0]),0),\\n    (array([1,0,0.5]),0),\\n    (array([1,0,1]),0),\\n    (array([1,0.5,0]),0),\\n    (array([1,0.5,0.5]),1),\\n    (array([1,0.5,1]),0),\\n    (array([1,1,0]),0),\\n    (array([1,1,0.5]),0),\\n    (array([1,1,1]),0)\\n]'"
      ]
     },
     "execution_count": 3,
     "metadata": {},
     "output_type": "execute_result"
    }
   ],
   "source": [
    "# OR\n",
    "'''data = [\n",
    "    (array([1,0,0]),0),\n",
    "    (array([1,0,1]),1),\n",
    "    (array([1,1,0]),1),\n",
    "    (array([1,1,1]),1)\n",
    "]'''\n",
    "\n",
    "# AND\n",
    "data = [\n",
    "    (array([1,0,0]),0),\n",
    "    (array([1,0,1]),0),\n",
    "    (array([1,1,0]),0),\n",
    "    (array([1,1,1]),1)\n",
    "]\n",
    "\n",
    "# XOR\n",
    "'''data = [\n",
    "    (array([1,0,0]),0),\n",
    "    (array([1,0,1]),1),\n",
    "    (array([1,1,0]),1),\n",
    "    (array([1,1,1]),0)\n",
    "]'''\n",
    "\n",
    "# 도넛모양\n",
    "'''data = [\n",
    "    (array([1,0,0]),0),\n",
    "    (array([1,0,0.5]),0),\n",
    "    (array([1,0,1]),0),\n",
    "    (array([1,0.5,0]),0),\n",
    "    (array([1,0.5,0.5]),1),\n",
    "    (array([1,0.5,1]),0),\n",
    "    (array([1,1,0]),0),\n",
    "    (array([1,1,0.5]),0),\n",
    "    (array([1,1,1]),0)\n",
    "]'''"
   ]
  },
  {
   "cell_type": "code",
   "execution_count": 12,
   "metadata": {
    "scrolled": true
   },
   "outputs": [
    {
     "name": "stdout",
     "output_type": "stream",
     "text": [
      "\n",
      "n=20\n",
      "x1=0.000000, x2=0.000000, y=0.000000, fx=0.335682, Error=0.056341\n",
      "x1=0.000000, x2=1.000000, y=0.000000, fx=0.375710, Error=0.070579\n",
      "x1=1.000000, x2=0.000000, y=0.000000, fx=0.246383, Error=0.030352\n",
      "x1=1.000000, x2=1.000000, y=1.000000, fx=0.276047, Error=0.262054\n",
      "\n",
      "n=40\n",
      "x1=0.000000, x2=0.000000, y=0.000000, fx=0.286136, Error=0.040937\n",
      "x1=0.000000, x2=1.000000, y=0.000000, fx=0.377551, Error=0.071272\n",
      "x1=1.000000, x2=0.000000, y=0.000000, fx=0.277118, Error=0.038397\n",
      "x1=1.000000, x2=1.000000, y=1.000000, fx=0.360593, Error=0.204421\n",
      "\n",
      "n=60\n",
      "x1=0.000000, x2=0.000000, y=0.000000, fx=0.242285, Error=0.029351\n",
      "x1=0.000000, x2=1.000000, y=0.000000, fx=0.376539, Error=0.070891\n",
      "x1=1.000000, x2=0.000000, y=0.000000, fx=0.300349, Error=0.045105\n",
      "x1=1.000000, x2=1.000000, y=1.000000, fx=0.439366, Error=0.157155\n",
      "\n",
      "n=80\n",
      "x1=0.000000, x2=0.000000, y=0.000000, fx=0.202310, Error=0.020465\n",
      "x1=0.000000, x2=1.000000, y=0.000000, fx=0.365520, Error=0.066802\n",
      "x1=1.000000, x2=0.000000, y=0.000000, fx=0.309177, Error=0.047795\n",
      "x1=1.000000, x2=1.000000, y=1.000000, fx=0.494906, Error=0.127560\n",
      "\n",
      "n=100\n",
      "x1=0.000000, x2=0.000000, y=0.000000, fx=0.168783, Error=0.014244\n",
      "x1=0.000000, x2=1.000000, y=0.000000, fx=0.350476, Error=0.061417\n",
      "x1=1.000000, x2=0.000000, y=0.000000, fx=0.309274, Error=0.047825\n",
      "x1=1.000000, x2=1.000000, y=1.000000, fx=0.533989, Error=0.108583\n"
     ]
    },
    {
     "data": {
      "text/plain": [
       "[<matplotlib.lines.Line2D at 0x23629507160>]"
      ]
     },
     "execution_count": 12,
     "metadata": {},
     "output_type": "execute_result"
    },
    {
     "data": {
      "image/png": "[encoded data removed]",
      "text/plain": [
       "<Figure size 432x288 with 2 Axes>"
      ]
     },
     "metadata": {},
     "output_type": "display_data"
    }
   ],
   "source": [
    "fig = plt.figure()\n",
    "subplot = fig.add_subplot(2,2,2)\n",
    "subplot.set_xlim(-0.5,1.5)\n",
    "subplot.set_ylim(-0.5,1.5)\n",
    "\n",
    "train_set0_x1=[]\n",
    "train_set0_x2=[]\n",
    "train_set1_x1=[]\n",
    "train_set1_x2=[]\n",
    "\n",
    "for a,b in data:\n",
    "    if b==0:\n",
    "        train_set0_x1.append(a[1:][0])\n",
    "        train_set0_x2.append(a[1:][1])\n",
    "    else:\n",
    "        train_set1_x1.append(a[1:][0])\n",
    "        train_set1_x2.append(a[1:][1])\n",
    "subplot.scatter(train_set0_x1, train_set0_x2, marker = 'x')\n",
    "subplot.scatter(train_set1_x1, train_set1_x2, marker = 'o')\n",
    "\n",
    "linex = np.linspace(-1,30,3)\n",
    "\n",
    "input_node = [2]    # Input Lyaer의 노드 수\n",
    "hidden_node = []   # Hidden Layer의 노드 수 배열([2,3,5,4,2]와 같이 가능)\n",
    "output_node = [1]   # Output Layer의 노드 수\n",
    "layer = input_node + hidden_node + output_node  # 전체 Layer의 노드 수 배열\n",
    "delta = []          # delta 값들을 저장할 배열\n",
    "net = []            # net 값들을 저장할 배열\n",
    "w=[]                # weight 값들을 저장할 배열\n",
    "c = 0.2           # Learning Rate\n",
    "n = 100         # Training Iteration 횟수\n",
    "\n",
    "# Initialize\n",
    "for i in range(1,len(layer)):\n",
    "    temp = []       # weight 배열을 위한 temp\n",
    "    temp_delta = [] # delta 배열을 위한 temp\n",
    "    temp_net = []   # net 배열을 위한 temp\n",
    "    for j in range(layer[i]):\n",
    "        #temp.append(random.uniform(0.0,1.0, layer[i-1]+1))  \n",
    "        temp.append(random.normal(0.0,1.0,size=layer[i-1]+1)) # 각 Layer의 노드 수 만큼 weight 생성\n",
    "        temp_delta.append(0)                    # 각 Layer의 노드 수 만큼 delta 생성\n",
    "        temp_net.append(0)                      # 각 Layer의 노드 수 만큼 net 생성\n",
    "    w.append(temp)\n",
    "    delta.append(temp_delta)\n",
    "    net.append(temp_net)\n",
    "\n",
    "# Training\n",
    "error = []\n",
    "for N in range(1,n+1):\n",
    "    if N % (n/5) == 0:\n",
    "        print('\\nn=%d' % N)\n",
    "        ################### AND, OR, XOR Gate 분석용 코드 ##############################\n",
    "        '''if (len(hidden_node) == 1) and (hidden_node[0] == 2):\n",
    "            subplot = fig.add_subplot(1,2,2)\n",
    "            subplot.set_xlim(-0.5,1.5)\n",
    "            subplot.set_ylim(-0.5,1.5)\n",
    "            \n",
    "\n",
    "            subplot.scatter(train_set0_x1, train_set0_x2, marker = 'x')\n",
    "            subplot.scatter(train_set1_x1, train_set1_x2, marker = 'o')'''\n",
    "            \n",
    "        liney = -(w[0][0][1]*linex+w[0][0][0]-0.5)/(w[0][0][2]+0.00000000001)\n",
    "        subplot.plot(linex,liney, label = 'L1 x1, N = %d' % N)\n",
    "\n",
    "        if (len(hidden_node) == 1) and (hidden_node[0] == 2):\n",
    "            liney = -(w[0][1][1]*linex+w[0][1][0]-0.5)/(w[0][1][2]+0.00000000001)\n",
    "            subplot.plot(linex,liney, label = 'L1 x2, N = %d' % N)\n",
    "        plt.legend(loc=2)\n",
    "        ###############################################################################\n",
    "    temp_error = 0\n",
    "    # data에서 x,y를 가져옴\n",
    "    for x,y in data: \n",
    "        x = [x]\n",
    "        y = np.array([y])\n",
    "\n",
    "        # 각 노드마다 f(net)의 값을 x에 저장\n",
    "        for i in range(0,len(layer)-1):\n",
    "            temp = np.array(1.0)\n",
    "            for j in range(0,layer[i+1]):\n",
    "                net[i][j] = dot(x[i],w[i][j])\n",
    "                fx = func(net[i][j]) # f(x)\n",
    "                temp = np.append(temp,fx)\n",
    "            x.append(temp)\n",
    "        \n",
    "        # Output Layer의 Node들의 delta값들을 구함\n",
    "        for i in range(layer[-1]):\n",
    "            delta[-1][i] = -(y[i]-x[-1][i+1])*dif_func(net[-1][i])\n",
    "\n",
    "        # Output Layer 이전 Layer부터 Layer1까지의 delta값들을 구함\n",
    "        for i in range(len(layer)-2,0,-1):\n",
    "            for j in range(layer[i]):\n",
    "                _sum = 0\n",
    "                for k in range(layer[i+1]):\n",
    "                    _sum = _sum + delta[i][k]*w[i][k][j+1]\n",
    "                delta[i-1][j] = dif_func(net[i-1][j])*_sum\n",
    "        \n",
    "        # Output Layer부터 Layer1까지의 Weight들을 갱신함\n",
    "        for i in range(len(w)-1,-1,-1):\n",
    "            for j in range(len(w[i])):\n",
    "                for k in range(len(w[i][j])):\n",
    "                    dw = -c*delta[i][j]*x[i][k]\n",
    "                    w[i][j][k] += dw\n",
    "\n",
    "        if N % (n/5) == 0:\n",
    "            print('x1=%f, x2=%f, y=%f, fx=%f, Error=%f' % (x[0][1],x[0][2],y[0],x[len(x)-1][1],(1/2)*((y[0]-x[len(x)-1][1])**2)))\n",
    "            #print('x1=%f, x2=%f, Error=%f' % (x[0][1],x[0][2],(1/2)*((y[0]-x[len(x)-1][1])**2)))\n",
    "        temp_error+=(1/2)*((y[0]-x[len(x)-1][1])**2)\n",
    "    error.append(temp_error/len(data))\n",
    "\n",
    "#################### Error 그래프 코드 ########################################################\n",
    "subplot_error = fig.add_subplot(2,2,1)\n",
    "line_x = np.linspace(0,n,10000)\n",
    "subplot_error.plot(error)\n",
    "##############################################################################################\n"
   ]
  },
  {
   "cell_type": "code",
   "execution_count": 6,
   "metadata": {},
   "outputs": [
    {
     "data": {
      "text/plain": [
       "<matplotlib.image.AxesImage at 0x23628be7be0>"
      ]
     },
     "execution_count": 6,
     "metadata": {},
     "output_type": "execute_result"
    }
   ],
   "source": [
    "def calc(x):\n",
    "    x = [x]\n",
    "    # 각 노드마다 f(net)의 값을 x에 저장\n",
    "    for i in range(0,len(layer)-1):\n",
    "        temp = np.array(1.0)\n",
    "        for j in range(0,layer[i+1]):\n",
    "            net[i][j] = dot(x[i],w[i][j])\n",
    "            fx = func(net[i][j]) # f(x)\n",
    "            temp = np.append(temp,fx)\n",
    "        x.append(temp)\n",
    "    return x[-1][1]\n",
    "\n",
    "locations = []\n",
    "for x2 in np.linspace(-0.5, 1.5, 100):\n",
    "    for x1 in np.linspace(-0.5, 1.5, 100):\n",
    "        locations.append(np.array([1,x1,x2]))\n",
    "p_vals = []\n",
    "for x in locations:\n",
    "    p_vals.append(calc(x))\n",
    "p_vals = np.array(p_vals)\n",
    "p_vals = p_vals.reshape((100,100))\n",
    "subplot.imshow(p_vals, origin = 'lower', extent = (-0.5,1.5,-0.5,1.5),cmap=plt.cm.gray_r, alpha=0.5)\n"
   ]
  },
  {
   "cell_type": "code",
   "execution_count": null,
   "metadata": {},
   "outputs": [],
   "source": []
  }
 ],
 "metadata": {
  "kernelspec": {
   "display_name": "Python 3",
   "language": "python",
   "name": "python3"
  },
  "language_info": {
   "codemirror_mode": {
    "name": "ipython",
    "version": 3
   },
   "file_extension": ".py",
   "mimetype": "text/x-python",
   "name": "python",
   "nbconvert_exporter": "python",
   "pygments_lexer": "ipython3",
   "version": "3.6.5"
  }
 },
 "nbformat": 4,
 "nbformat_minor": 2
}
